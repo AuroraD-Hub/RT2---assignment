{
 "cells": [
  {
   "cell_type": "code",
   "execution_count": null,
   "id": "b941df64",
   "metadata": {
    "ExecuteTime": {
     "end_time": "2022-05-31T13:57:38.138177Z",
     "start_time": "2022-05-31T13:57:38.132223Z"
    }
   },
   "outputs": [],
   "source": [
    "# Get current position of the robot to plot\n",
    "def odom_callback(msg):\n",
    "    \n",
    "    x_odom.append(msg.pose.pose.position.x)\n",
    "    y_odom.append(msg.pose.pose.position.y)"
   ]
  },
  {
   "cell_type": "code",
   "execution_count": null,
   "id": "d2550419",
   "metadata": {
    "ExecuteTime": {
     "end_time": "2022-05-31T13:57:38.427628Z",
     "start_time": "2022-05-31T13:57:38.142716Z"
    }
   },
   "outputs": [],
   "source": [
    "# Get minimum distance from nearest obstacle in front of the robot to plot\n",
    "def scan_callback(msg):\n",
    "    \n",
    "    global min_l, min_c, min_r\n",
    "    \n",
    "    min_l = np.min(msg.ranges[0:240])\n",
    "    min_c = np.min(msg.ranges[240:480])\n",
    "    min_r = np.min(msg.ranges[480:720])\n",
    "    \n",
    "    y_scan.append(min_c)"
   ]
  },
  {
   "cell_type": "code",
   "execution_count": null,
   "id": "11114fc2",
   "metadata": {
    "ExecuteTime": {
     "end_time": "2022-05-31T13:57:38.639810Z",
     "start_time": "2022-05-31T13:57:38.430517Z"
    }
   },
   "outputs": [],
   "source": [
    "# Avoid obstacle while going towards the goal\n",
    "def auto_control():\n",
    "    \n",
    "    min_th = 0.5 # threshold distance from obstacle\n",
    "    if (min_c<min_th): # obstacle in front\n",
    "        print(\"Obstacle! I need to turn\")\n",
    "        vel.linear.x = 0\n",
    "        vel.angular.z = -1\n",
    "    else:\n",
    "        if (min_r<min_th): # obstacle on the right\n",
    "            print(\"Obstacle! I need to turn\")\n",
    "            vel.linear.x = 0\n",
    "            vel.angular.z = 1\n",
    "        elif (min_l<min_th): # obstacle on the left\n",
    "            print(\"Obstacle! I need to turn\")\n",
    "            vel.linear.x = 0\n",
    "            vel.angular.z = -1\n",
    "    pub_vel.publish(vel)"
   ]
  },
  {
   "cell_type": "code",
   "execution_count": null,
   "id": "3fdd1d6e",
   "metadata": {
    "ExecuteTime": {
     "end_time": "2022-05-31T13:57:38.883339Z",
     "start_time": "2022-05-31T13:57:38.648928Z"
    }
   },
   "outputs": [],
   "source": [
    "# Directly control the robot via user inputs\n",
    "def user_control():\n",
    "    \n",
    "\tb1 = widgets.Button(description='turn left')\n",
    "\tb2 = widgets.Button(description='go forward')\n",
    "\tb3 = widgets.Button(description='turn right')\n",
    "\tb4 = widgets.Button(description='stop here')\n",
    "\tgrid = widgets.GridspecLayout(2,3)\n",
    "\tgrid[0,1] = b2\n",
    "\tgrid[1,0] = b1\n",
    "\tgrid[1,1] = b4\n",
    "\tgrid[1,2] = b3\n",
    "\tdisplay(grid, output)\n",
    "        \n",
    "\tdef b1_clicked(b):\n",
    "\t\tvel.linear.x = 0\n",
    "\t\tvel.angular.z = 1\n",
    "\t\tpub_vel.publish(vel)\n",
    "\tdef b2_clicked(b):\n",
    "\t\tvel.linear.x = 1\n",
    "\t\tvel.angular.z = 0\n",
    "\t\tpub_vel.publish(vel)\n",
    "\tdef b3_clicked(b):\n",
    "\t\tvel.linear.x = 0\n",
    "\t\tvel.angular.z = -1\n",
    "\t\tpub_vel.publish(vel)\n",
    "\tdef b4_clicked(b):\n",
    "\t\tvel.linear.x = 0\n",
    "\t\tvel.angular.z = 0\n",
    "\t\tpub_vel.publish(vel)\n",
    "        \n",
    "\tb1.on_click(b1_clicked)\n",
    "\tb2.on_click(b2_clicked)\n",
    "\tb3.on_click(b3_clicked)\n",
    "\tb4.on_click(b4_clicked)"
   ]
  },
  {
   "cell_type": "code",
   "execution_count": null,
   "id": "eedf48a8",
   "metadata": {
    "ExecuteTime": {
     "end_time": "2022-05-31T13:57:39.120924Z",
     "start_time": "2022-05-31T13:57:38.886052Z"
    }
   },
   "outputs": [],
   "source": [
    "# Let the robot move autonomously in the environment\n",
    "def auto_move():\n",
    "\tcanc = GoalID()\n",
    "\t\n",
    "\tprint(\"You chose modality 1! \\n\")\n",
    "\t\n",
    "\t# Ask the user a new target position\n",
    "\tprint(\"Set x and y of new target position: \")\n",
    "\tx_pos = widgets.FloatText(\n",
    "\t\tvalue = None,\n",
    "\t\tdescription = 'x: ',\n",
    "\t\tdisabled = False\n",
    "\t)\n",
    "\ty_pos = widgets.FloatText(\n",
    "\t\tvalue = None,\n",
    "\t\tdescription = 'y: ',\n",
    "\t\tdisabled = False\n",
    "\t)\n",
    "\tsend_goal = widgets.Button(\n",
    "\t\tdescription = 'Send goal',\n",
    "\t\tdisabled = False\n",
    "\t)\n",
    "\tbox = widgets.VBox(children=[x_pos, y_pos, send_goal])  \n",
    "\t     \n",
    "\tdef publish_target(change):\n",
    "\t\ttarget.goal.target_pose.pose.position.x = x_pos.value   \n",
    "\t\ttarget.goal.target_pose.pose.position.y = y_pos.value\n",
    "\t\tpub_goal.publish(target)\n",
    "\t\n",
    "\tdisplay(box, output)\n",
    "\tsend_goal.on_click(publish_target)\n",
    "    \n",
    "\t# Drive the robot towards target\n",
    "\tauto_control()\n",
    "\t\n",
    "\t# Asking the user if target has to be cancelled\n",
    "\tchoose_to_canc = widgets.RadioButtons(\n",
    "\t\toptions = ['Yes', 'No'],\n",
    "\t\tlayout = {'max_width': 'max-content'},\n",
    "\t\tdescription = 'Do you want to cancel this goal?',\n",
    "\t\tdisabled = False,\n",
    "\t\tvalue = None\n",
    "\t)\n",
    "        \n",
    "\tdef cancelling(change):\n",
    "\t\tif (choose_to_canc.value=='Yes'): # the user wants to cancel it\n",
    "\t\t\tpub_canc.publish(canc)\n",
    "\t\t\tprint(\"Goal cancelled\")\n",
    "\t\telse:\n",
    "\t\t\tprint(\"Ok, going towards the goal\")\n",
    "                \n",
    "\tdisplay(choose_to_canc, output)\n",
    "\tchoose_to_canc.observe(cancelling, names=['value'])"
   ]
  },
  {
   "cell_type": "code",
   "execution_count": null,
   "id": "28be9a14",
   "metadata": {
    "ExecuteTime": {
     "end_time": "2022-05-31T13:57:39.573076Z",
     "start_time": "2022-05-31T13:57:39.131306Z"
    }
   },
   "outputs": [],
   "source": [
    "# Drive the robot with keyboard inputs\n",
    "def drive_alone():\n",
    "    \n",
    "\tprint(\"You chose modality 2! \\n\")\n",
    "\t\n",
    "\tprint(\"Use buttons to move the robot:\")\n",
    "\tuser_control()"
   ]
  },
  {
   "cell_type": "code",
   "execution_count": null,
   "id": "265a1156",
   "metadata": {
    "ExecuteTime": {
     "end_time": "2022-05-31T13:57:39.807972Z",
     "start_time": "2022-05-31T13:57:39.575913Z"
    }
   },
   "outputs": [],
   "source": [
    "# Drive the robot in the environment while being assisted for obstacle avoidance\n",
    "def drive_assistance():\n",
    "    \n",
    "\tprint(\"You chose modality 3! \\n\")\n",
    "\t\n",
    "\tprint(\"Use buttons to move the robot with assistance:\")\n",
    "\tuser_control()\n",
    "\tassistance = widgets.Checkbox(\n",
    "\t\tvalue = False,\n",
    "\t\tdescription = 'Assistance',\n",
    "\t\tdisabled = False\n",
    "\t)\n",
    "\tdef enable_assistance(change):\n",
    "\t\tif(assistance.value==True):\n",
    "\t\t\tauto_control()\n",
    "\t\t\tprint(\"Assistance enabled\")\n",
    "\t\telse:\n",
    "\t\t\tprint(\"Assistance disabled\")\n",
    "        \n",
    "\tdisplay(assistance, output)\n",
    "\tassistance.observe(enable_assistance, names='value')"
   ]
  },
  {
   "cell_type": "code",
   "execution_count": null,
   "id": "6220974d",
   "metadata": {
    "ExecuteTime": {
     "end_time": "2022-05-31T13:57:40.146470Z",
     "start_time": "2022-05-31T13:57:39.818908Z"
    }
   },
   "outputs": [],
   "source": [
    "# Decide control modality\n",
    "def ui_decide():\n",
    "\t\n",
    "\tchoose_mod = widgets.RadioButtons(\n",
    "\t\toptions = ['robot moves autonomously to goal', 'drive the robot to goal', 'drive the robot with assistance to goal'],\n",
    "\t\tlayout = {'width': 'max-content'},\n",
    "\t\tdescription = 'Choose:',\n",
    "\t\tdisabled = False,\n",
    "\t\tvalue = None\n",
    "\t)\n",
    "    \n",
    "\tdef choosing(change):\n",
    "\t\tif (choose_mod.value=='robot moves autonomously to goal'):\n",
    "\t\t\tauto_move()\n",
    "\t\telif (choose_mod.value=='drive the robot to goal'):\n",
    " \t\t\tdrive_alone()\n",
    "\t\telif (choose_mod.value=='drive the robot with assistance to goal'):\n",
    "\t\t\tdrive_assistance()\n",
    "\t\telse:\n",
    "\t\t\tprint(\"This modality doesn't exist.\")\n",
    "        \n",
    "\tdisplay(choose_mod, output)\n",
    "\tchoose_mod.observe(choosing, names=['value'])"
   ]
  },
  {
   "cell_type": "code",
   "execution_count": null,
   "id": "da101e45",
   "metadata": {
    "ExecuteTime": {
     "end_time": "2022-05-31T13:57:40.372917Z",
     "start_time": "2022-05-31T13:57:40.147850Z"
    }
   },
   "outputs": [],
   "source": [
    "# Plot current position of the robot, laser scanner data and targets position\n",
    "def plot_data():\n",
    "\n",
    "    # Robot position\n",
    "    ax_odom.plot(x_odom, y_odom)\n",
    "    ax_odom.set_title(\"Robot position\")\n",
    "    ax_odom.set_xlabel(\"x [m]\")\n",
    "    ax_odom.set_ylabel(\"y [m]\")\n",
    "    \n",
    "    # Laser scanner data\n",
    "    ax_scan.plot(y_scan)\n",
    "    ax_scan.set_title(\"Minimum distance from obstacles\")\n",
    "    ax_scan.set_ylabel(\"distance [m]\")\n",
    "    \n",
    "    # Target position\n",
    "    x_target.append(target.goal.target_pose.pose.position.x)\n",
    "    y_target.append(target.goal.target_pose.pose.position.y)\n",
    "    ax_target.plot(x_target,y_target,'*')\n",
    "    ax_target.set_title(\"Target position\")\n",
    "    ax_target.set_xlabel(\"x [m]\")\n",
    "    ax_target.set_ylabel(\"y [m]\")\n",
    "    \n",
    "    fig.tight_layout()"
   ]
  },
  {
   "cell_type": "code",
   "execution_count": null,
   "id": "2ac273fd",
   "metadata": {
    "ExecuteTime": {
     "end_time": "2022-05-31T13:57:40.562234Z",
     "start_time": "2022-05-31T13:57:40.376504Z"
    }
   },
   "outputs": [],
   "source": [
    "# Start the interface node to control the robot\n",
    "def interface():\n",
    "    rospy.init_node(\"user_interface\")\n",
    "    \n",
    "    global pub_goal\n",
    "    global pub_canc\n",
    "    global pub_vel\n",
    "    \n",
    "    pub_goal = rospy.Publisher(\"/move_base/goal\", MoveBaseActionGoal, queue_size=10)\n",
    "    pub_canc = rospy.Publisher(\"/move_base/cancel\", GoalID, queue_size=10)\n",
    "    pub_vel = rospy.Publisher(\"/cmd_vel\", Twist, queue_size=10)\n",
    "    sub_odom = rospy.Subscriber(\"/odom\", Odometry, odom_callback)\n",
    "    sub_scan = rospy.Subscriber(\"/scan\", LaserScan, scan_callback)\n",
    "    \n",
    "    ui_decide()\n",
    "    plot_data()"
   ]
  },
  {
   "cell_type": "code",
   "execution_count": null,
   "id": "7333515d",
   "metadata": {
    "ExecuteTime": {
     "end_time": "2022-05-31T13:57:41.927106Z",
     "start_time": "2022-05-31T13:57:40.571777Z"
    }
   },
   "outputs": [],
   "source": [
    "import sys\n",
    "sys.path.append('/root/ros_ws/src/RT1-III_assignment')\n",
    "import final_assignment\n",
    "import rospy\n",
    "import matplotlib.pyplot as plt\n",
    "import ipywidgets as widgets\n",
    "import numpy as np\n",
    "from nav_msgs.msg import Odometry\n",
    "from sensor_msgs.msg import LaserScan\n",
    "from geometry_msgs.msg import Twist\n",
    "from move_base_msgs.msg import MoveBaseActionGoal\n",
    "from actionlib_msgs.msg import GoalID\n",
    "\n",
    "# Define needed variables \n",
    "target = MoveBaseActionGoal()\n",
    "vel = Twist()\n",
    "\n",
    "output = widgets.Output()\n",
    "\n",
    "# Initialize matplotlib widget to plot data\n",
    "%matplotlib widget\n",
    "global x_odom, y_odom, y_scan, x_target, y_target\n",
    "x_odom = []\n",
    "y_odom = []\n",
    "y_scan = []\n",
    "x_target = []\n",
    "y_target = []\n",
    "fig, axes = plt.subplots(nrows=1, ncols=3, figsize=(9,5))\n",
    "ax_odom, ax_scan, ax_target = axes.flatten()\n",
    "plt.show()\n",
    "\n",
    "# Start the interface\n",
    "interface()"
   ]
  }
 ],
 "metadata": {
  "kernelspec": {
   "display_name": "Python 3 (ipykernel)",
   "language": "python",
   "name": "python3"
  },
  "language_info": {
   "codemirror_mode": {
    "name": "ipython",
    "version": 3
   },
   "file_extension": ".py",
   "mimetype": "text/x-python",
   "name": "python",
   "nbconvert_exporter": "python",
   "pygments_lexer": "ipython3",
   "version": "3.8.5"
  },
  "toc": {
   "base_numbering": 1,
   "nav_menu": {},
   "number_sections": true,
   "sideBar": true,
   "skip_h1_title": false,
   "title_cell": "Table of Contents",
   "title_sidebar": "Contents",
   "toc_cell": false,
   "toc_position": {},
   "toc_section_display": true,
   "toc_window_display": false
  },
  "varInspector": {
   "cols": {
    "lenName": 16,
    "lenType": 16,
    "lenVar": 40
   },
   "kernels_config": {
    "python": {
     "delete_cmd_postfix": "",
     "delete_cmd_prefix": "del ",
     "library": "var_list.py",
     "varRefreshCmd": "print(var_dic_list())"
    },
    "r": {
     "delete_cmd_postfix": ") ",
     "delete_cmd_prefix": "rm(",
     "library": "var_list.r",
     "varRefreshCmd": "cat(var_dic_list()) "
    }
   },
   "types_to_exclude": [
    "module",
    "function",
    "builtin_function_or_method",
    "instance",
    "_Feature"
   ],
   "window_display": false
  }
 },
 "nbformat": 4,
 "nbformat_minor": 5
}
