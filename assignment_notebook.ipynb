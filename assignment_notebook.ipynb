{
 "cells": [
  {
   "cell_type": "code",
   "execution_count": null,
   "id": "01759602",
   "metadata": {
    "ExecuteTime": {
     "end_time": "2022-05-30T08:59:58.272105Z",
     "start_time": "2022-05-30T08:59:58.265544Z"
    }
   },
   "outputs": [],
   "source": [
    "# Get current position of the robot to plot\n",
    "def odom_callback(msg):\n",
    "    \n",
    "    x_odom.append(msg.pose.pose.position.x)\n",
    "    y_odom.append(msg.pose.pose.position.y)"
   ]
  },
  {
   "cell_type": "code",
   "execution_count": null,
   "id": "66306c56",
   "metadata": {
    "ExecuteTime": {
     "end_time": "2022-05-30T08:59:58.880595Z",
     "start_time": "2022-05-30T08:59:58.278564Z"
    }
   },
   "outputs": [],
   "source": [
    "# Get minimum distance from nerest obstacle in front of the robot to plot\n",
    "def scan_callback(msg):\n",
    "    \n",
    "    y_scan.append(np.min(msg.ranges[240:480]))"
   ]
  },
  {
   "cell_type": "code",
   "execution_count": null,
   "id": "362f3f7a",
   "metadata": {
    "ExecuteTime": {
     "end_time": "2022-05-30T08:59:59.325706Z",
     "start_time": "2022-05-30T08:59:58.888264Z"
    }
   },
   "outputs": [],
   "source": [
    "# Update fields of the custom service\n",
    "def update_var(var):\n",
    "    rospy.wait_for_service('service')\n",
    "    \n",
    "    get_var = rospy.ServiceProxy('service', Callbacks_srv)\n",
    "    response = get_var(var)\n",
    "    \n",
    "    return response   "
   ]
  },
  {
   "cell_type": "code",
   "execution_count": null,
   "id": "ee270862",
   "metadata": {
    "ExecuteTime": {
     "end_time": "2022-05-30T08:59:59.710608Z",
     "start_time": "2022-05-30T08:59:59.329685Z"
    }
   },
   "outputs": [],
   "source": [
    "# Let the robot move autonomously in the environment\n",
    "def auto_move():\n",
    "\tcanc = GoalID()\n",
    "\tcanc = {}\n",
    "\t\n",
    "\tprint(\"You chose modality 1! \\n\")\n",
    "\t\n",
    "\tres = update_var(req)\n",
    "\t\n",
    "\t# Ask the user a new target position\n",
    "\tprint(\"Set x and y of new target position: \")\n",
    "\tx_pos = widgets.FloatText(\n",
    "\t\tvalue = None,\n",
    "\t\tdescription = 'x: ',\n",
    "\t\tdisabled = False\n",
    "\t)\n",
    "\ty_pos = widgets.FloatText(\n",
    "\t\tvalue = None,\n",
    "\t\tdescription = 'y: ',\n",
    "\t\tdisabled = False\n",
    "\t)\n",
    "\tbox = widgets.VBox(children=[x_pos, y_pos])  \n",
    "\t     \n",
    "\tdef publish_target(change):\n",
    "\t\ttarget.goal.target_pose.pose.position.x = x_pos.value\n",
    "\t\ttarget.goal.target_pose.pose.position.y = y_pos.value\n",
    "\t\tpub_goal.publish(target)\n",
    "\t\n",
    "\tdisplay(box, output)\n",
    "\tbox.observe(publish_target, names='value')\n",
    "\t\n",
    "\t# Drive the robot towards target\n",
    "\twhile (res.s!=1):\n",
    "\t\treq.mod1 = 0\n",
    "\t\tres = update_var(req)\n",
    "\t\n",
    "\t# Control if the target is unreachable and eventually cancel it, otherwise ask the user \n",
    "\t#  if he/she wants to cancel it\n",
    "\tif (res.re==1): # target is unreachable\n",
    "\t\tprint(\"Goal cannot be reached!\")\n",
    "\t\tpub_canc.publish(canc)\n",
    "\telse: # asking the user if target has to be cancelled\n",
    "\t\tchoose_to_canc = widgets.RadioButtons(\n",
    "\t\t\toptions = ['Yes', 'No'],\n",
    "\t\t\tlayout = {'width': 'max-content'},\n",
    "\t\t\tdescription = 'Do you want to cancel this goal?',\n",
    "\t\t\tdisabled = False,\n",
    "\t\t\tvalue = None\n",
    "\t\t)\n",
    "        \n",
    "\t\tdef cancelling(change):\n",
    "\t\t\tif (choose_to_canc.value=='Yes'): # the user wants to cancel it\n",
    "\t\t\t\tpub_canc.publish(canc)\n",
    "\t\t\t\tprint(\"Goal cancelled\")\n",
    "\t\t\telse:\n",
    "\t\t\t\tprint(\"Ok, going towards the goal\")\n",
    "                \n",
    "\t\tdisplay(choose_to_canc, output)\n",
    "\t\tchoose_to_canc.observe(cancelling, names=['value'])"
   ]
  },
  {
   "cell_type": "code",
   "execution_count": null,
   "id": "1ba57112",
   "metadata": {},
   "outputs": [],
   "source": [
    "def control():\n",
    "\tb1 = widgets.Button(description='turn left')\n",
    "\tb2 = widgets.Button(description='go forward')\n",
    "\tb3 = widgets.Button(description='turn right')\n",
    "\tb4 = widgets.Button(description='stop here')\n",
    "\tb5 = widgets.Button(description='quit')\n",
    "\tgrid = widgets.GridspecLayout(3,3)\n",
    "\tgrid[0,1] = b2\n",
    "\tgrid[1,0] = b1\n",
    "\tgrid[1,1] = b4\n",
    "\tgrid[1,2] = b3\n",
    "\tgrid[2,1] = b5\n",
    "\tdisplay(grid, output)\n",
    "        \n",
    "\tdef b1_clicked(b):\n",
    "\t\tvel.linear.x = 0\n",
    "\t\tvel.angular.z = 1\n",
    "\t\tpub_vel.publish(vel)\n",
    "\tdef b2_clicked(b):\n",
    "\t\tvel.linear.x = 1\n",
    "\t\tvel.angular.z = 0\n",
    "\t\tpub_vel.publish(vel)\n",
    "\tdef b3_clicked(b):\n",
    "\t\tvel.linear.x = 0\n",
    "\t\tvel.angular.z = -1\n",
    "\t\tpub_vel.publish(vel)\n",
    "\tdef b4_clicked(b):\n",
    "\t\tvel.linear.x = 0\n",
    "\t\tvel.angular.z = 0\n",
    "\t\tpub_vel.publish(vel)\n",
    "\tdef b5_clicked(b):\n",
    "\t\treq.mod1 = 1\n",
    "\t\tres = update_var(req)\n",
    "        \n",
    "\tb1.on_click(b1_clicked)\n",
    "\tb2.on_click(b2_clicked)\n",
    "\tb3.on_click(b3_clicked)\n",
    "\tb4.on_click(b4_clicked)\n",
    "\tb5.on_click(b5_clicked)"
   ]
  },
  {
   "cell_type": "code",
   "execution_count": null,
   "id": "f0c16a71",
   "metadata": {
    "ExecuteTime": {
     "end_time": "2022-05-30T09:00:00.174239Z",
     "start_time": "2022-05-30T08:59:59.717389Z"
    }
   },
   "outputs": [],
   "source": [
    "# Drive the robot with keyboard inputs\n",
    "def drive_alone():\n",
    "    \n",
    "\tprint(\"You chose modality 2! \\n\")\n",
    "\t\n",
    "\tres = update_var(req)\n",
    "\t\n",
    "\tprint(\"Use buttons to move the robot or quit this modality:\")\n",
    "\tcontrol()"
   ]
  },
  {
   "cell_type": "code",
   "execution_count": null,
   "id": "a669514f",
   "metadata": {
    "ExecuteTime": {
     "end_time": "2022-05-30T09:00:00.634779Z",
     "start_time": "2022-05-30T09:00:00.185998Z"
    }
   },
   "outputs": [],
   "source": [
    "# Drive the robot in the environment while being assisted for obstacle avoidance\n",
    "def drive_assistance():\n",
    "    \n",
    "\tprint(\"You chose modality 3! \\n\")\n",
    "\t\n",
    "\tres = update_var(req)\n",
    "\t\n",
    "\tprint(\"Use keyboard to move the robot:\")\n",
    "\twhile (res.d!='q'):\n",
    "\t\treq.mod1 = 0\n",
    "\t\tres = update_var(req)\n",
    "\t\tcontrol()"
   ]
  },
  {
   "cell_type": "code",
   "execution_count": null,
   "id": "64f7e402",
   "metadata": {
    "ExecuteTime": {
     "end_time": "2022-05-30T09:00:01.254347Z",
     "start_time": "2022-05-30T09:00:00.646495Z"
    }
   },
   "outputs": [],
   "source": [
    "# Decide control modality\n",
    "def ui_decide():\n",
    "\t\n",
    "\tchoose_mod = widgets.RadioButtons(\n",
    "\t\toptions = ['robot moves autonomously to goal', 'drive the robot to goal', 'drive the robot with assistance to goal'],\n",
    "\t\tlayout = {'width': 'max-content'},\n",
    "\t\tdescription = 'Choose:',\n",
    "\t\tdisabled = False,\n",
    "        value = None\n",
    "\t)\n",
    "    \n",
    "\tdef choosing(change):\n",
    "\t\tif (choose_mod.value=='robot moves autonomously to goal'):\n",
    "\t\t\tauto_move()\n",
    "\t\telif (choose_mod.value=='drive the robot to goal'):\n",
    " \t\t\tdrive_alone()\n",
    "\t\telif (choose_mod.value=='drive the robot with assistance to goal'):\n",
    "\t\t\tdrive_assistance()\n",
    "\t\telse:\n",
    "\t\t\tprint(\"This modality doesn't exist.\")\n",
    "        \n",
    "\tdisplay(choose_mod, output)\n",
    "\tchoose_mod.observe(choosing, names=['value'])"
   ]
  },
  {
   "cell_type": "code",
   "execution_count": null,
   "id": "9d7dd7ae",
   "metadata": {
    "ExecuteTime": {
     "end_time": "2022-05-30T09:00:01.770628Z",
     "start_time": "2022-05-30T09:00:01.264962Z"
    }
   },
   "outputs": [],
   "source": [
    "# Plot current position of the robot\n",
    "def plot_robot_data():\n",
    "\n",
    "    ax_odom.plot(x_odom, y_odom)\n",
    "    \n",
    "    ax_odom.set_title(\"Robot position\")\n",
    "    ax_odom.set_xlabel(\"x [m]\")\n",
    "    ax_odom.set_ylabel(\"y [m]\")\n",
    "    \n",
    "    fig.tight_layout()"
   ]
  },
  {
   "cell_type": "code",
   "execution_count": null,
   "id": "b729151d",
   "metadata": {
    "ExecuteTime": {
     "end_time": "2022-05-30T09:00:02.364612Z",
     "start_time": "2022-05-30T09:00:01.800074Z"
    }
   },
   "outputs": [],
   "source": [
    "# Plot minimum distance fromthe nearest obstacle in front of the robot (direction of motion)\n",
    "def plot_laser_scan():\n",
    "    \n",
    "    ax_scan.plot(y_scan)\n",
    "    \n",
    "    ax_scan.set_title(\"Minimum distance from obstacles\")\n",
    "    ax_scan.set_ylabel(\"distance [m]\")\n",
    "    \n",
    "    fig.tight_layout()"
   ]
  },
  {
   "cell_type": "code",
   "execution_count": null,
   "id": "4dd36c87",
   "metadata": {
    "ExecuteTime": {
     "end_time": "2022-05-30T09:00:02.792162Z",
     "start_time": "2022-05-30T09:00:02.371271Z"
    }
   },
   "outputs": [],
   "source": [
    "# Plot position of the selected targets\n",
    "def plot_target_data():\n",
    "    \n",
    "    x_target.append(target.goal.target_pose.pose.position.x)\n",
    "    y_target.append(target.goal.target_pose.pose.position.y)\n",
    "    \n",
    "    ax_target.plot(x_target,y_target,'*')\n",
    "    \n",
    "    ax_target.set_title(\"Target position\")\n",
    "    ax_target.set_xlabel(\"x [m]\")\n",
    "    ax_target.set_ylabel(\"y [m]\")\n",
    "    \n",
    "    fig.tight_layout()"
   ]
  },
  {
   "cell_type": "code",
   "execution_count": null,
   "id": "7045b255",
   "metadata": {
    "ExecuteTime": {
     "end_time": "2022-05-30T09:00:03.190922Z",
     "start_time": "2022-05-30T09:00:02.804091Z"
    }
   },
   "outputs": [],
   "source": [
    "# Start the interface node to control the robot\n",
    "def interface():\n",
    "    rospy.init_node(\"user_interface\")\n",
    "    \n",
    "    global pub_goal\n",
    "    global pub_canc\n",
    "    global pub_vel\n",
    "    \n",
    "    pub_goal = rospy.Publisher(\"/move_base/goal\", MoveBaseActionGoal, queue_size=10)\n",
    "    pub_canc = rospy.Publisher(\"/move_base/cancel\", GoalID, queue_size=10)\n",
    "    pub_vel = rospy.Publisher(\"/cmd_vel\", Twist, queue_size=10)\n",
    "    sub_odom = rospy.Subscriber(\"/odom\", Odometry, odom_callback)\n",
    "    sub_scan = rospy.Subscriber(\"/scan\", LaserScan, scan_callback)\n",
    "    \n",
    "    ui_decide()\n",
    "    plot_robot_data()\n",
    "    plot_laser_scan()\n",
    "    plot_target_data()"
   ]
  },
  {
   "cell_type": "code",
   "execution_count": null,
   "id": "6fc7778c",
   "metadata": {
    "ExecuteTime": {
     "end_time": "2022-05-30T09:00:06.177249Z",
     "start_time": "2022-05-30T09:00:03.195753Z"
    },
    "scrolled": true
   },
   "outputs": [],
   "source": [
    "import os\n",
    "import sys\n",
    "sys.path.append('/root/ros_ws/src/RT1-III_assignment')\n",
    "import final_assignment\n",
    "import rospy\n",
    "import matplotlib.pyplot as plt\n",
    "import ipywidgets as widgets\n",
    "import numpy as np\n",
    "from nav_msgs.msg import Odometry\n",
    "from sensor_msgs.msg import LaserScan\n",
    "from geometry_msgs.msg import Twist\n",
    "from move_base_msgs.msg import MoveBaseActionGoal\n",
    "from actionlib_msgs.msg import GoalID\n",
    "from final_srv.srv import Callbacks_srv,Callbacks_srvRequest,Callbacks_srvResponse\n",
    "\n",
    "# Define needed variables \n",
    "req = Callbacks_srvRequest()\n",
    "res = Callbacks_srvResponse()\n",
    "target = MoveBaseActionGoal()\n",
    "vel = Twist()\n",
    "\n",
    "output = widgets.Output()\n",
    "\n",
    "# Initialize matplotlib widget to plot data\n",
    "%matplotlib widget\n",
    "global x_odom, y_odom, y_scan, x_target, y_target\n",
    "x_odom = []\n",
    "y_odom = []\n",
    "y_scan = []\n",
    "x_target = []\n",
    "y_target = []\n",
    "fig, axes = plt.subplots(nrows=1, ncols=3, figsize=(9,5))\n",
    "ax_odom, ax_scan, ax_target = axes.flatten()\n",
    "plt.show()\n",
    "\n",
    "# Start the interface\n",
    "interface()"
   ]
  }
 ],
 "metadata": {
  "kernelspec": {
   "display_name": "Python 3 (ipykernel)",
   "language": "python",
   "name": "python3"
  },
  "language_info": {
   "codemirror_mode": {
    "name": "ipython",
    "version": 3
   },
   "file_extension": ".py",
   "mimetype": "text/x-python",
   "name": "python",
   "nbconvert_exporter": "python",
   "pygments_lexer": "ipython3",
   "version": "3.8.5"
  },
  "toc": {
   "base_numbering": 1,
   "nav_menu": {},
   "number_sections": true,
   "sideBar": true,
   "skip_h1_title": false,
   "title_cell": "Table of Contents",
   "title_sidebar": "Contents",
   "toc_cell": false,
   "toc_position": {},
   "toc_section_display": true,
   "toc_window_display": false
  },
  "varInspector": {
   "cols": {
    "lenName": 16,
    "lenType": 16,
    "lenVar": 40
   },
   "kernels_config": {
    "python": {
     "delete_cmd_postfix": "",
     "delete_cmd_prefix": "del ",
     "library": "var_list.py",
     "varRefreshCmd": "print(var_dic_list())"
    },
    "r": {
     "delete_cmd_postfix": ") ",
     "delete_cmd_prefix": "rm(",
     "library": "var_list.r",
     "varRefreshCmd": "cat(var_dic_list()) "
    }
   },
   "types_to_exclude": [
    "module",
    "function",
    "builtin_function_or_method",
    "instance",
    "_Feature"
   ],
   "window_display": false
  }
 },
 "nbformat": 4,
 "nbformat_minor": 5
}
